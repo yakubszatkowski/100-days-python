{
  "nbformat": 4,
  "nbformat_minor": 0,
  "metadata": {
    "colab": {
      "provenance": [],
      "authorship_tag": "ABX9TyP19Wp8uNSYVaJedPVqlpku",
      "include_colab_link": true
    },
    "kernelspec": {
      "name": "python3",
      "display_name": "Python 3"
    },
    "language_info": {
      "name": "python"
    }
  },
  "cells": [
    {
      "cell_type": "markdown",
      "metadata": {
        "id": "view-in-github",
        "colab_type": "text"
      },
      "source": [
        "<a href=\"https://colab.research.google.com/github/yakubszatkowski/100_days_python/blob/master/Day_71/Day_71_Intro.ipynb\" target=\"_parent\"><img src=\"https://colab.research.google.com/assets/colab-badge.svg\" alt=\"Open In Colab\"/></a>"
      ]
    },
    {
      "cell_type": "markdown",
      "source": [
        "# Day 71 - Data Exploration with pandas College Major vs your salary - 15:30"
      ],
      "metadata": {
        "id": "EBgNYQil77Nh"
      }
    },
    {
      "cell_type": "markdown",
      "source": [
        "# Introduction"
      ],
      "metadata": {
        "id": "YE_N9F53NroW"
      }
    },
    {
      "cell_type": "code",
      "source": [
        "import pandas as pd"
      ],
      "metadata": {
        "id": "YrioXueO-P76"
      },
      "execution_count": null,
      "outputs": []
    },
    {
      "cell_type": "code",
      "source": [
        "df = pd.read_csv('salaries_by_college_major.csv')"
      ],
      "metadata": {
        "id": "Jmr8953IXz1j"
      },
      "execution_count": 49,
      "outputs": []
    },
    {
      "cell_type": "code",
      "source": [
        "# show first 5 rows of dataframe\n",
        "df.head()  \n",
        "# show dimensions of dataframe\n",
        "df.shape\n",
        "# shows columns names \n",
        "df.columns\n",
        "# shows #N/A\n",
        "df.isna()\n",
        "# shows last couple of rows in dataframe\n",
        "df.tail()\n",
        "# creating a database without NA values\n",
        "clean_df = df.dropna()\n",
        "clean_df.tail()\n",
        "# shows values from Starting Median Salary column\n",
        "clean_df['Starting Median Salary']\n",
        "# shows the highest value in Starting Median Salary\n",
        "clean_df['Starting Median Salary'].max()\n",
        "# shows index of the row containing highest value in Starting Median Salary\n",
        "clean_df['Starting Median Salary'].idxmax()\n",
        "# shows the data of 43's row of Undergraduate Major's column\n",
        "# clean_df['Undergraduate Major'].loc[43]\n",
        "clean_df['Undergraduate Major'][43]\n",
        "# shows the whole data of 43's row\n",
        "clean_df.loc[43]"
      ],
      "metadata": {
        "id": "-EmiX_Fh_nj2"
      },
      "execution_count": null,
      "outputs": []
    },
    {
      "cell_type": "markdown",
      "source": [
        "What college major has the highest mid-career salary? How much do graduates with this major earn? (Mid-career is defined as having 10+ years of experience)."
      ],
      "metadata": {
        "id": "7o8G631SNoSS"
      }
    },
    {
      "cell_type": "code",
      "source": [
        "highest_mid_salary_id = clean_df['Mid-Career Median Salary'].idxmax()\n",
        "clean_df.loc[highest_mid_salary_id]\n",
        "# or clean_df.loc[highest_mid_salary_id][0]"
      ],
      "metadata": {
        "id": "-mZ5Akt8NqAT"
      },
      "execution_count": null,
      "outputs": []
    },
    {
      "cell_type": "markdown",
      "source": [
        "Which college major has the lowest starting salary and how much do graduates earn after university?"
      ],
      "metadata": {
        "id": "Vn0JHOSgPtj6"
      }
    },
    {
      "cell_type": "code",
      "source": [
        "lowest_start_salary_id = clean_df['Starting Median Salary'].idxmin()\n",
        "clean_df.loc[lowest_start_salary_id]"
      ],
      "metadata": {
        "id": "mlNyrMbGPwLl"
      },
      "execution_count": null,
      "outputs": []
    },
    {
      "cell_type": "markdown",
      "source": [
        "Which college major has the lowest mid-career salary and how much can people expect to earn with this degree? "
      ],
      "metadata": {
        "id": "XwTydzOfRCv9"
      }
    },
    {
      "cell_type": "code",
      "source": [
        "lowest_mid_salary_id = clean_df['Mid-Career Median Salary'].idxmin()\n",
        "clean_df.loc[lowest_mid_salary_id]"
      ],
      "metadata": {
        "id": "U6qVIGPFRAOz"
      },
      "execution_count": null,
      "outputs": []
    },
    {
      "cell_type": "markdown",
      "source": [
        "# Sorting Values & Adding Columns: Majors with the Most Potential vs Lowest Risk"
      ],
      "metadata": {
        "id": "1UKqGkw9SXLg"
      }
    },
    {
      "cell_type": "markdown",
      "source": [
        "Lowest Risk Majors \n",
        "\n",
        "Adding a column with difference between mid-career 90th precentile salary and 10th precientile salary"
      ],
      "metadata": {
        "id": "mDmHE4xeXPzh"
      }
    },
    {
      "cell_type": "code",
      "source": [
        "# creating a difference column called 'spread_col'\n",
        "spread_col = clean_df['Mid-Career 90th Percentile Salary']-clean_df['Mid-Career 10th Percentile Salary']\n",
        "# inserting spread_col column into the dataframe with name 'Spread' as first column\n",
        "clean_df.insert(1, 'Spread', spread_col)\n",
        "clean_df.head()"
      ],
      "metadata": {
        "id": "0Z89RqIPSal-"
      },
      "execution_count": null,
      "outputs": []
    },
    {
      "cell_type": "markdown",
      "source": [
        "Sorting dataframe by lowest spread"
      ],
      "metadata": {
        "id": "nCzWEVmPaP6j"
      }
    },
    {
      "cell_type": "code",
      "source": [
        "low_risk = clean_df.sort_values('Spread')  # ascending=True is by default\n",
        "low_risk"
      ],
      "metadata": {
        "id": "JGmNhwoiaVnu"
      },
      "execution_count": null,
      "outputs": []
    },
    {
      "cell_type": "markdown",
      "source": [
        "Highest Potential majors"
      ],
      "metadata": {
        "id": "MLIIlYbNcLVC"
      }
    },
    {
      "cell_type": "code",
      "source": [
        "highest_potential = clean_df.sort_values('Mid-Career 90th Percentile Salary', ascending=False)\n",
        "highest_potential[['Undergraduate Major', 'Mid-Career 90th Percentile Salary']].head()"
      ],
      "metadata": {
        "id": "0a-DjeIRcoWL"
      },
      "execution_count": null,
      "outputs": []
    },
    {
      "cell_type": "markdown",
      "source": [
        "Greatest spread majors"
      ],
      "metadata": {
        "id": "F1O5_2A_d5R0"
      }
    },
    {
      "cell_type": "code",
      "source": [
        "greatest_spread = clean_df.sort_values('Spread', ascending=False)\n",
        "greatest_spread[['Undergraduate Major', 'Spread']].head()"
      ],
      "metadata": {
        "id": "TMdgjj6bd8oV"
      },
      "execution_count": null,
      "outputs": []
    },
    {
      "cell_type": "markdown",
      "source": [
        "# Grouping and Pivoting Data"
      ],
      "metadata": {
        "id": "PsUbU4Bwijp3"
      }
    },
    {
      "cell_type": "code",
      "source": [
        "# counts the amount of rows in groups\n",
        "count = clean_df.groupby('Group').count()\n",
        "# calculates mean value of the groups\n",
        "mean = clean_df.groupby('Group').mean()\n",
        "pd.options.display.float_format = '{:,.0f}'.format\n",
        "mean"
      ],
      "metadata": {
        "id": "YG6ZkhGqinpV"
      },
      "execution_count": null,
      "outputs": []
    },
    {
      "cell_type": "markdown",
      "source": [
        "Today's Learning Points\n",
        "\n",
        "*   Use `.head()`, `.tail()`, `.shape` and `.columns` to explore your DataFrame and find out the number of rows and columns as well as the column names.\n",
        "\n",
        "*   Look for NaN (not a number) values with `.isna()` and consider using `.dropna()` to clean up your DataFrame.\n",
        "\n",
        "*   You can access entire columns of a DataFrame using the square bracket notation: `df['column name']` or` df[['column name 1', 'column name 2', 'column name 3']]`\n",
        "\n",
        "*   You can access individual cells in a DataFrame by chaining square brackets `df['column name'][index]` or using `df['column name'].loc[index]`\n",
        "\n",
        "* The largest and smallest values, as well as their positions, can be found with methods like `.max()`, `.min()`, `.idxmax()` and `.idxmin()`\n",
        "\n",
        "* You can sort the DataFrame with `.sort_values()` and add new columns with `.insert()`\n",
        "\n",
        "* To create an Excel Style Pivot Table by grouping entries that belong to a particular category use the `.groupby()` method"
      ],
      "metadata": {
        "id": "5EkgZDr_mwZI"
      }
    }
  ]
}